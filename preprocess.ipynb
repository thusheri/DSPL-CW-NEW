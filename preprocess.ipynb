{
 "cells": [
  {
   "cell_type": "code",
   "execution_count": 9,
   "id": "ad3b16e3",
   "metadata": {},
   "outputs": [],
   "source": [
    "import pandas as pd"
   ]
  },
  {
   "cell_type": "code",
   "execution_count": 10,
   "id": "f274703c",
   "metadata": {},
   "outputs": [],
   "source": [
    "df1= pd.read_excel(r\"C:\\Users\\Thusheri\\Desktop\\IIT\\10. Data Science Project Lifecycle\\CW 2\\New Dataset.xlsx\")"
   ]
  },
  {
   "cell_type": "code",
   "execution_count": 11,
   "id": "38f09de9",
   "metadata": {},
   "outputs": [
    {
     "data": {
      "text/html": [
       "<div>\n",
       "<style scoped>\n",
       "    .dataframe tbody tr th:only-of-type {\n",
       "        vertical-align: middle;\n",
       "    }\n",
       "\n",
       "    .dataframe tbody tr th {\n",
       "        vertical-align: top;\n",
       "    }\n",
       "\n",
       "    .dataframe thead th {\n",
       "        text-align: right;\n",
       "    }\n",
       "</style>\n",
       "<table border=\"1\" class=\"dataframe\">\n",
       "  <thead>\n",
       "    <tr style=\"text-align: right;\">\n",
       "      <th></th>\n",
       "      <th>End of the Year</th>\n",
       "      <th>Currency Issues of the CBSL</th>\n",
       "      <th>Government Agencies Deposit with CBSL</th>\n",
       "      <th>Commercial Bank Deposit with CBSL</th>\n",
       "      <th>Total</th>\n",
       "      <th>M1</th>\n",
       "      <th>M2</th>\n",
       "      <th>M2b</th>\n",
       "      <th>M2 velocity</th>\n",
       "      <th>M2b velocity</th>\n",
       "    </tr>\n",
       "  </thead>\n",
       "  <tbody>\n",
       "    <tr>\n",
       "      <th>0</th>\n",
       "      <td>2003 Jan</td>\n",
       "      <td>86019.0</td>\n",
       "      <td>18.0</td>\n",
       "      <td>37490.0</td>\n",
       "      <td>123527.0</td>\n",
       "      <td>1.101249</td>\n",
       "      <td>4.152882</td>\n",
       "      <td>5.095995</td>\n",
       "      <td>NaN</td>\n",
       "      <td>NaN</td>\n",
       "    </tr>\n",
       "    <tr>\n",
       "      <th>1</th>\n",
       "      <td>Feb</td>\n",
       "      <td>86977.0</td>\n",
       "      <td>18.0</td>\n",
       "      <td>40145.0</td>\n",
       "      <td>127140.0</td>\n",
       "      <td>1.084143</td>\n",
       "      <td>4.075743</td>\n",
       "      <td>5.000291</td>\n",
       "      <td>NaN</td>\n",
       "      <td>NaN</td>\n",
       "    </tr>\n",
       "    <tr>\n",
       "      <th>2</th>\n",
       "      <td>Mar</td>\n",
       "      <td>91477.0</td>\n",
       "      <td>18.0</td>\n",
       "      <td>40283.0</td>\n",
       "      <td>131778.0</td>\n",
       "      <td>1.071537</td>\n",
       "      <td>3.981507</td>\n",
       "      <td>4.879896</td>\n",
       "      <td>NaN</td>\n",
       "      <td>NaN</td>\n",
       "    </tr>\n",
       "    <tr>\n",
       "      <th>3</th>\n",
       "      <td>Apr</td>\n",
       "      <td>91365.0</td>\n",
       "      <td>16.0</td>\n",
       "      <td>37261.0</td>\n",
       "      <td>128642.0</td>\n",
       "      <td>1.112895</td>\n",
       "      <td>4.122713</td>\n",
       "      <td>5.041829</td>\n",
       "      <td>NaN</td>\n",
       "      <td>NaN</td>\n",
       "    </tr>\n",
       "    <tr>\n",
       "      <th>4</th>\n",
       "      <td>May</td>\n",
       "      <td>90524.0</td>\n",
       "      <td>17.0</td>\n",
       "      <td>41880.0</td>\n",
       "      <td>132421.0</td>\n",
       "      <td>1.087471</td>\n",
       "      <td>4.023576</td>\n",
       "      <td>4.918027</td>\n",
       "      <td>NaN</td>\n",
       "      <td>NaN</td>\n",
       "    </tr>\n",
       "  </tbody>\n",
       "</table>\n",
       "</div>"
      ],
      "text/plain": [
       "  End of the Year  Currency Issues of the CBSL  \\\n",
       "0       2003 Jan                       86019.0   \n",
       "1             Feb                      86977.0   \n",
       "2             Mar                      91477.0   \n",
       "3             Apr                      91365.0   \n",
       "4             May                      90524.0   \n",
       "\n",
       "   Government Agencies Deposit with CBSL  Commercial Bank Deposit with CBSL  \\\n",
       "0                                   18.0                            37490.0   \n",
       "1                                   18.0                            40145.0   \n",
       "2                                   18.0                            40283.0   \n",
       "3                                   16.0                            37261.0   \n",
       "4                                   17.0                            41880.0   \n",
       "\n",
       "      Total        M1        M2       M2b M2 velocity M2b velocity  \n",
       "0  123527.0  1.101249  4.152882  5.095995         NaN          NaN  \n",
       "1  127140.0  1.084143  4.075743  5.000291         NaN          NaN  \n",
       "2  131778.0  1.071537  3.981507  4.879896         NaN          NaN  \n",
       "3  128642.0  1.112895  4.122713  5.041829         NaN          NaN  \n",
       "4  132421.0  1.087471  4.023576  4.918027         NaN          NaN  "
      ]
     },
     "execution_count": 11,
     "metadata": {},
     "output_type": "execute_result"
    }
   ],
   "source": [
    "df1.head()"
   ]
  },
  {
   "cell_type": "code",
   "execution_count": 12,
   "id": "6a1bbef6",
   "metadata": {},
   "outputs": [
    {
     "data": {
      "text/plain": [
       "End of the Year                           object\n",
       "Currency Issues of the CBSL              float64\n",
       "Government Agencies Deposit with CBSL    float64\n",
       "Commercial Bank Deposit with CBSL        float64\n",
       "Total                                    float64\n",
       "M1                                       float64\n",
       "M2                                       float64\n",
       "M2b                                      float64\n",
       "M2 velocity                               object\n",
       "M2b velocity                              object\n",
       "dtype: object"
      ]
     },
     "execution_count": 12,
     "metadata": {},
     "output_type": "execute_result"
    }
   ],
   "source": [
    "df1.dtypes"
   ]
  },
  {
   "cell_type": "code",
   "execution_count": 13,
   "id": "8e675ba7",
   "metadata": {},
   "outputs": [
    {
     "data": {
      "text/plain": [
       "End of the Year                            0\n",
       "Currency Issues of the CBSL                0\n",
       "Government Agencies Deposit with CBSL      0\n",
       "Commercial Bank Deposit with CBSL          0\n",
       "Total                                      0\n",
       "M1                                         0\n",
       "M2                                         0\n",
       "M2b                                        0\n",
       "M2 velocity                              243\n",
       "M2b velocity                             243\n",
       "dtype: int64"
      ]
     },
     "execution_count": 13,
     "metadata": {},
     "output_type": "execute_result"
    }
   ],
   "source": [
    "df1.isnull().sum()"
   ]
  },
  {
   "cell_type": "code",
   "execution_count": 14,
   "id": "299d3c19",
   "metadata": {},
   "outputs": [
    {
     "data": {
      "text/plain": [
       "0"
      ]
     },
     "execution_count": 14,
     "metadata": {},
     "output_type": "execute_result"
    }
   ],
   "source": [
    "df1.duplicated().sum()"
   ]
  },
  {
   "cell_type": "code",
   "execution_count": 17,
   "id": "ce4a1db5",
   "metadata": {},
   "outputs": [
    {
     "name": "stdout",
     "output_type": "stream",
     "text": [
      "<class 'pandas.core.frame.DataFrame'>\n",
      "RangeIndex: 264 entries, 0 to 263\n",
      "Data columns (total 10 columns):\n",
      " #   Column                                 Non-Null Count  Dtype  \n",
      "---  ------                                 --------------  -----  \n",
      " 0   End of the Year                        264 non-null    object \n",
      " 1   Currency Issues of the CBSL            264 non-null    float64\n",
      " 2   Government Agencies Deposit with CBSL  264 non-null    float64\n",
      " 3   Commercial Bank Deposit with CBSL      264 non-null    float64\n",
      " 4   Total                                  264 non-null    float64\n",
      " 5   M1                                     264 non-null    float64\n",
      " 6   M2                                     264 non-null    float64\n",
      " 7   M2b                                    264 non-null    float64\n",
      " 8   M2 velocity                            21 non-null     object \n",
      " 9   M2b velocity                           21 non-null     object \n",
      "dtypes: float64(7), object(3)\n",
      "memory usage: 20.8+ KB\n"
     ]
    }
   ],
   "source": [
    "df1.info()"
   ]
  },
  {
   "cell_type": "code",
   "execution_count": null,
   "id": "c96a329d",
   "metadata": {},
   "outputs": [
    {
     "data": {
      "text/plain": [
       "<Arrow [2024-01-01T00:00:00+00:00]>"
      ]
     },
     "execution_count": 19,
     "metadata": {},
     "output_type": "execute_result"
    }
   ],
   "source": [
    "import arrow\n",
    "\n",
    "arrow.get(\"2024\", \"YYYY\") "
   ]
  },
  {
   "cell_type": "code",
   "execution_count": 20,
   "id": "4e51f837",
   "metadata": {},
   "outputs": [
    {
     "name": "stdout",
     "output_type": "stream",
     "text": [
      "2022-04-26T23:20:00+00:00\n"
     ]
    }
   ],
   "source": [
    "timestamp_str = \"1651015200\"\n",
    "timestamp_int = int(timestamp_str)  # Convert str to int\n",
    "date = arrow.get(timestamp_int)\n",
    "print(date)"
   ]
  },
  {
   "cell_type": "code",
   "execution_count": 21,
   "id": "0d11d58c",
   "metadata": {},
   "outputs": [
    {
     "data": {
      "text/html": [
       "<div>\n",
       "<style scoped>\n",
       "    .dataframe tbody tr th:only-of-type {\n",
       "        vertical-align: middle;\n",
       "    }\n",
       "\n",
       "    .dataframe tbody tr th {\n",
       "        vertical-align: top;\n",
       "    }\n",
       "\n",
       "    .dataframe thead th {\n",
       "        text-align: right;\n",
       "    }\n",
       "</style>\n",
       "<table border=\"1\" class=\"dataframe\">\n",
       "  <thead>\n",
       "    <tr style=\"text-align: right;\">\n",
       "      <th></th>\n",
       "      <th>End of the Year</th>\n",
       "      <th>Currency Issues of the CBSL</th>\n",
       "      <th>Government Agencies Deposit with CBSL</th>\n",
       "      <th>Commercial Bank Deposit with CBSL</th>\n",
       "      <th>Total</th>\n",
       "      <th>M1</th>\n",
       "      <th>M2</th>\n",
       "      <th>M2b</th>\n",
       "      <th>M2 velocity</th>\n",
       "      <th>M2b velocity</th>\n",
       "    </tr>\n",
       "  </thead>\n",
       "  <tbody>\n",
       "    <tr>\n",
       "      <th>0</th>\n",
       "      <td>2003 Jan</td>\n",
       "      <td>86019.0</td>\n",
       "      <td>18.0</td>\n",
       "      <td>37490.0</td>\n",
       "      <td>123527.0</td>\n",
       "      <td>1.101249</td>\n",
       "      <td>4.152882</td>\n",
       "      <td>5.095995</td>\n",
       "      <td>NaN</td>\n",
       "      <td>NaN</td>\n",
       "    </tr>\n",
       "    <tr>\n",
       "      <th>1</th>\n",
       "      <td>Feb</td>\n",
       "      <td>86977.0</td>\n",
       "      <td>18.0</td>\n",
       "      <td>40145.0</td>\n",
       "      <td>127140.0</td>\n",
       "      <td>1.084143</td>\n",
       "      <td>4.075743</td>\n",
       "      <td>5.000291</td>\n",
       "      <td>NaN</td>\n",
       "      <td>NaN</td>\n",
       "    </tr>\n",
       "    <tr>\n",
       "      <th>2</th>\n",
       "      <td>Mar</td>\n",
       "      <td>91477.0</td>\n",
       "      <td>18.0</td>\n",
       "      <td>40283.0</td>\n",
       "      <td>131778.0</td>\n",
       "      <td>1.071537</td>\n",
       "      <td>3.981507</td>\n",
       "      <td>4.879896</td>\n",
       "      <td>NaN</td>\n",
       "      <td>NaN</td>\n",
       "    </tr>\n",
       "    <tr>\n",
       "      <th>3</th>\n",
       "      <td>Apr</td>\n",
       "      <td>91365.0</td>\n",
       "      <td>16.0</td>\n",
       "      <td>37261.0</td>\n",
       "      <td>128642.0</td>\n",
       "      <td>1.112895</td>\n",
       "      <td>4.122713</td>\n",
       "      <td>5.041829</td>\n",
       "      <td>NaN</td>\n",
       "      <td>NaN</td>\n",
       "    </tr>\n",
       "    <tr>\n",
       "      <th>4</th>\n",
       "      <td>May</td>\n",
       "      <td>90524.0</td>\n",
       "      <td>17.0</td>\n",
       "      <td>41880.0</td>\n",
       "      <td>132421.0</td>\n",
       "      <td>1.087471</td>\n",
       "      <td>4.023576</td>\n",
       "      <td>4.918027</td>\n",
       "      <td>NaN</td>\n",
       "      <td>NaN</td>\n",
       "    </tr>\n",
       "  </tbody>\n",
       "</table>\n",
       "</div>"
      ],
      "text/plain": [
       "  End of the Year  Currency Issues of the CBSL  \\\n",
       "0       2003 Jan                       86019.0   \n",
       "1             Feb                      86977.0   \n",
       "2             Mar                      91477.0   \n",
       "3             Apr                      91365.0   \n",
       "4             May                      90524.0   \n",
       "\n",
       "   Government Agencies Deposit with CBSL  Commercial Bank Deposit with CBSL  \\\n",
       "0                                   18.0                            37490.0   \n",
       "1                                   18.0                            40145.0   \n",
       "2                                   18.0                            40283.0   \n",
       "3                                   16.0                            37261.0   \n",
       "4                                   17.0                            41880.0   \n",
       "\n",
       "      Total        M1        M2       M2b M2 velocity M2b velocity  \n",
       "0  123527.0  1.101249  4.152882  5.095995         NaN          NaN  \n",
       "1  127140.0  1.084143  4.075743  5.000291         NaN          NaN  \n",
       "2  131778.0  1.071537  3.981507  4.879896         NaN          NaN  \n",
       "3  128642.0  1.112895  4.122713  5.041829         NaN          NaN  \n",
       "4  132421.0  1.087471  4.023576  4.918027         NaN          NaN  "
      ]
     },
     "execution_count": 21,
     "metadata": {},
     "output_type": "execute_result"
    }
   ],
   "source": [
    "df1.head()"
   ]
  },
  {
   "cell_type": "code",
   "execution_count": 22,
   "id": "fcfc1e25",
   "metadata": {},
   "outputs": [
    {
     "data": {
      "text/plain": [
       "End of the Year                           object\n",
       "Currency Issues of the CBSL              float64\n",
       "Government Agencies Deposit with CBSL    float64\n",
       "Commercial Bank Deposit with CBSL        float64\n",
       "Total                                    float64\n",
       "M1                                       float64\n",
       "M2                                       float64\n",
       "M2b                                      float64\n",
       "M2 velocity                               object\n",
       "M2b velocity                              object\n",
       "dtype: object"
      ]
     },
     "execution_count": 22,
     "metadata": {},
     "output_type": "execute_result"
    }
   ],
   "source": [
    "df1.dtypes"
   ]
  },
  {
   "cell_type": "code",
   "execution_count": 23,
   "id": "9e98f593",
   "metadata": {},
   "outputs": [],
   "source": [
    "df1.sort_values('End of the Year',inplace=True)"
   ]
  },
  {
   "cell_type": "code",
   "execution_count": 24,
   "id": "8742189c",
   "metadata": {},
   "outputs": [
    {
     "data": {
      "text/plain": [
       "0      2003 Jan \n",
       "12     2004 Jan \n",
       "24     2005 Jan \n",
       "36     2006 Jan \n",
       "48     2007 Jan \n",
       "         ...    \n",
       "116          Sep\n",
       "140          Sep\n",
       "56           Sep\n",
       "200          Sep\n",
       "224          Sep\n",
       "Name: End of the Year, Length: 264, dtype: object"
      ]
     },
     "execution_count": 24,
     "metadata": {},
     "output_type": "execute_result"
    }
   ],
   "source": [
    "df1['End of the Year']"
   ]
  },
  {
   "cell_type": "code",
   "execution_count": 29,
   "id": "f83dd62c",
   "metadata": {},
   "outputs": [],
   "source": [
    "df1.to_csv(\"Cleaned_dataset.csv\")"
   ]
  }
 ],
 "metadata": {
  "kernelspec": {
   "display_name": "base",
   "language": "python",
   "name": "python3"
  },
  "language_info": {
   "codemirror_mode": {
    "name": "ipython",
    "version": 3
   },
   "file_extension": ".py",
   "mimetype": "text/x-python",
   "name": "python",
   "nbconvert_exporter": "python",
   "pygments_lexer": "ipython3",
   "version": "3.11.5"
  }
 },
 "nbformat": 4,
 "nbformat_minor": 5
}
