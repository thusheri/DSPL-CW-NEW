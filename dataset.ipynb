{
 "cells": [
  {
   "cell_type": "code",
   "execution_count": 1,
   "id": "d296e423",
   "metadata": {},
   "outputs": [],
   "source": [
    "import pandas as pd"
   ]
  },
  {
   "cell_type": "code",
   "execution_count": 3,
   "id": "9e791eca",
   "metadata": {},
   "outputs": [],
   "source": [
    "# Load the Excel file\n",
    "df = pd.read_excel(r\"C:\\Users\\Thusheri\\Desktop\\IIT\\10. Data Science Project Lifecycle\\CW 2\\dataset.xlsx\")"
   ]
  },
  {
   "cell_type": "code",
   "execution_count": 4,
   "id": "d567cea7",
   "metadata": {},
   "outputs": [
    {
     "name": "stdout",
     "output_type": "stream",
     "text": [
      "Initial Data Sample:\n",
      "  End of the Year  Reserve Money (Rs. Million)  \\\n",
      "0             NaN  Currency Issues of the CBSL   \n",
      "1       2003 Jan                         86019   \n",
      "2             Feb                        86977   \n",
      "3             Mar                        91477   \n",
      "4             Apr                        91365   \n",
      "\n",
      "                              Unnamed: 2                         Unnamed: 3  \\\n",
      "0  Government Agencies Deposit with CBSL  Commercial Bank Deposit with CBSL   \n",
      "1                                     18                              37490   \n",
      "2                                     18                              40145   \n",
      "3                                     18                              40283   \n",
      "4                                     16                              37261   \n",
      "\n",
      "  Unnamed: 4 Money Multiplier Unnamed: 6 Unnamed: 7 Velocity of Money (a)  \\\n",
      "0      Total               M1         M2        M2b                    M2   \n",
      "1     123527         1.101249   4.152882   5.095995                   NaN   \n",
      "2     127140         1.084143   4.075743   5.000291                   NaN   \n",
      "3     131778         1.071537   3.981507   4.879896                   NaN   \n",
      "4     128642         1.112895   4.122713   5.041829                   NaN   \n",
      "\n",
      "  Unnamed: 9  \n",
      "0        M2b  \n",
      "1        NaN  \n",
      "2        NaN  \n",
      "3        NaN  \n",
      "4        NaN  \n"
     ]
    }
   ],
   "source": [
    "# Preview the data\n",
    "print(\"Initial Data Sample:\")\n",
    "print(df.head())"
   ]
  },
  {
   "cell_type": "code",
   "execution_count": 5,
   "id": "1eec6f04",
   "metadata": {},
   "outputs": [],
   "source": [
    "# Drop completely empty rows and columns\n",
    "df.dropna(how='all', inplace=True)\n",
    "df.dropna(axis=1, how='all', inplace=True)"
   ]
  },
  {
   "cell_type": "code",
   "execution_count": 6,
   "id": "17850800",
   "metadata": {},
   "outputs": [],
   "source": [
    "# Strip whitespace from column names\n",
    "df.columns = df.columns.str.strip()"
   ]
  }
 ],
 "metadata": {
  "kernelspec": {
   "display_name": "base",
   "language": "python",
   "name": "python3"
  },
  "language_info": {
   "codemirror_mode": {
    "name": "ipython",
    "version": 3
   },
   "file_extension": ".py",
   "mimetype": "text/x-python",
   "name": "python",
   "nbconvert_exporter": "python",
   "pygments_lexer": "ipython3",
   "version": "3.11.5"
  }
 },
 "nbformat": 4,
 "nbformat_minor": 5
}
